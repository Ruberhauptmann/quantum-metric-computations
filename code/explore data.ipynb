{
 "cells": [
  {
   "cell_type": "code",
   "id": "initial_id",
   "metadata": {
    "collapsed": true,
    "ExecuteTime": {
     "end_time": "2024-07-08T10:55:59.764061Z",
     "start_time": "2024-07-08T10:55:59.760733Z"
    }
   },
   "source": "import glob",
   "outputs": [],
   "execution_count": 5
  },
  {
   "metadata": {
    "ExecuteTime": {
     "end_time": "2024-07-08T10:56:14.304842Z",
     "start_time": "2024-07-08T10:56:14.299316Z"
    }
   },
   "cell_type": "code",
   "source": [
    "V_dirs = glob.glob(\"../minimise_results/*\")\n",
    "\n",
    "#fig, axs = plt.subplots(nrows=4*len(V_list), ncols=len(mu_files_test), figsize=(len(mu_files_test)*5, 4*5*len(V_list)))\n",
    "\n",
    "for V_dir in V_dirs:\n",
    "    V = float(V_dir.split(\"/\")[-1].split(\"_\")[-1])\n",
    "    mu_dirs = glob.glob(f'{V_dir}/*')\n",
    "    \n",
    "    for mu_dir in mu_dirs:\n",
    "        mu = float(mu_dir.split(\"/\")[-1].split(\"_\")[-1])\n",
    "        \n",
    "        U_files = glob.glob(f'{mu_dir}/U_*.hdf5')\n",
    "        \n",
    "        for U_file in U_files:\n",
    "            print(U_file)"
   ],
   "id": "fe85bbd867e8dc1a",
   "outputs": [
    {
     "name": "stdout",
     "output_type": "stream",
     "text": [
      "../minimise_results/2.00/-1.00/U_2.69.hdf5\n",
      "../minimise_results/2.00/-1.00/U_1.43.hdf5\n",
      "../minimise_results/2.00/-1.00/U_0.80.hdf5\n",
      "../minimise_results/2.00/-1.00/U_2.21.hdf5\n",
      "../minimise_results/2.00/-1.00/U_1.90.hdf5\n",
      "../minimise_results/2.00/-1.00/U_2.84.hdf5\n",
      "../minimise_results/2.00/-1.00/U_0.17.hdf5\n",
      "../minimise_results/2.00/-1.00/U_0.48.hdf5\n",
      "../minimise_results/2.00/-1.00/U_0.95.hdf5\n",
      "../minimise_results/2.00/-1.00/U_1.58.hdf5\n",
      "../minimise_results/2.00/-1.00/U_2.06.hdf5\n",
      "../minimise_results/2.00/-1.00/U_2.53.hdf5\n",
      "../minimise_results/2.00/-1.00/U_0.01.hdf5\n",
      "../minimise_results/2.00/-1.00/U_1.27.hdf5\n",
      "../minimise_results/2.00/-1.00/U_0.64.hdf5\n",
      "../minimise_results/2.00/-1.00/U_1.11.hdf5\n",
      "../minimise_results/2.00/-1.00/U_1.74.hdf5\n",
      "../minimise_results/2.00/-1.00/U_2.37.hdf5\n",
      "../minimise_results/2.00/-1.00/U_3.00.hdf5\n",
      "../minimise_results/2.00/-1.00/U_0.32.hdf5\n"
     ]
    }
   ],
   "execution_count": 7
  },
  {
   "metadata": {},
   "cell_type": "code",
   "outputs": [],
   "execution_count": null,
   "source": "",
   "id": "b89b04e2df908fe2"
  }
 ],
 "metadata": {
  "kernelspec": {
   "display_name": "Python 3",
   "language": "python",
   "name": "python3"
  },
  "language_info": {
   "codemirror_mode": {
    "name": "ipython",
    "version": 2
   },
   "file_extension": ".py",
   "mimetype": "text/x-python",
   "name": "python",
   "nbconvert_exporter": "python",
   "pygments_lexer": "ipython2",
   "version": "2.7.6"
  }
 },
 "nbformat": 4,
 "nbformat_minor": 5
}
