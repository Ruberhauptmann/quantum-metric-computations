{
 "cells": [
  {
   "cell_type": "code",
   "id": "initial_id",
   "metadata": {
    "collapsed": true,
    "ExecuteTime": {
     "end_time": "2024-07-08T08:15:00.494823Z",
     "start_time": "2024-07-08T08:15:00.480891Z"
    }
   },
   "source": "import glob",
   "outputs": [],
   "execution_count": 1
  },
  {
   "metadata": {
    "ExecuteTime": {
     "end_time": "2024-07-08T08:20:39.174007Z",
     "start_time": "2024-07-08T08:20:39.169707Z"
    }
   },
   "cell_type": "code",
   "source": [
    "V_dirs = glob.glob(\"minimise_results/V_*\")\n",
    "\n",
    "for V_dir in V_dirs:\n",
    "    V = float(V_dir.split(\"/\")[-1].split(\"_\")[-1])\n",
    "    mu_dirs = glob.glob(f'{V_dir}/mu_*')\n",
    "    \n",
    "    for mu_dir in mu_dirs:\n",
    "        mu = float(mu_dir.split(\"/\")[-1].split(\"_\")[-1])\n",
    "        \n",
    "        U_files = glob.glob(f'{mu_dir}/U_*.hdf5')\n",
    "        \n",
    "        for U_file in U_files:\n",
    "            \n",
    "    \n",
    "#fig, axs = plt.subplots(nrows=4*len(V_list), ncols=len(mu_files_test), figsize=(len(mu_files_test)*5, 4*5*len(V_list)))\n"
   ],
   "id": "fe85bbd867e8dc1a",
   "outputs": [
    {
     "name": "stdout",
     "output_type": "stream",
     "text": [
      "-1.0\n",
      "0.0\n",
      "-2.0\n",
      "-1.0\n",
      "0.0\n",
      "-0.5\n"
     ]
    }
   ],
   "execution_count": 12
  },
  {
   "metadata": {},
   "cell_type": "code",
   "outputs": [],
   "execution_count": null,
   "source": "",
   "id": "b89b04e2df908fe2"
  }
 ],
 "metadata": {
  "kernelspec": {
   "display_name": "Python 3",
   "language": "python",
   "name": "python3"
  },
  "language_info": {
   "codemirror_mode": {
    "name": "ipython",
    "version": 2
   },
   "file_extension": ".py",
   "mimetype": "text/x-python",
   "name": "python",
   "nbconvert_exporter": "python",
   "pygments_lexer": "ipython2",
   "version": "2.7.6"
  }
 },
 "nbformat": 4,
 "nbformat_minor": 5
}
